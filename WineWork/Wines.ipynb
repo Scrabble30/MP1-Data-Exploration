{
 "cells": [
  {
   "cell_type": "code",
   "execution_count": null,
   "id": "5447abb8-4b2f-4dfd-9b28-a9dacfc53d24",
   "metadata": {
    "scrolled": true
   },
   "outputs": [],
   "source": [
    "import pandas as pd\n",
    "import seaborn as sns\n",
    "import scipy.stats as stats\n",
    "import matplotlib.pyplot as plt\n",
    "\n",
    "red_wine = pd.read_excel('winequality-red.xlsx', skiprows = 1)\n",
    "white_wine = pd.read_excel('winequality-white.xlsx', skiprows = 1)\n",
    "\n",
    "red_wine['type'] = 'red'\n",
    "white_wine['type'] = 'white'\n",
    "\n",
    "both_wine = pd.concat([red_wine, white_wine], ignore_index=True)"
   ]
  },
  {
   "cell_type": "code",
   "execution_count": null,
   "id": "c2e6db03-c99c-458e-bf17-588dd62fd7d5",
   "metadata": {},
   "outputs": [],
   "source": [
    "# To transform the categorical data into numeric values we can look at the 'type' column in our data to initialize them as 1 and 2, using map.\n",
    "# 1 being Red Wine\n",
    "# 2 being White Wine\n",
    "both_wine['type_code'] = both_wine['type'].map({'red': 1, 'white': 2})"
   ]
  },
  {
   "cell_type": "code",
   "execution_count": null,
   "id": "32e8e983-3817-4e02-931c-5cfecb303366",
   "metadata": {},
   "outputs": [],
   "source": [
    "numeric_cols = both_wine.select_dtypes(include='number').columns"
   ]
  },
  {
   "cell_type": "code",
   "execution_count": null,
   "id": "549bfd2b-f58e-4fe7-85b0-11ea324bdeff",
   "metadata": {},
   "outputs": [],
   "source": [
    "both_wine"
   ]
  },
  {
   "cell_type": "code",
   "execution_count": null,
   "id": "68aee039-848c-4d5d-b411-7ae1a3defe48",
   "metadata": {
    "scrolled": true
   },
   "outputs": [],
   "source": [
    "both_wine.groupby('type')['quality'].mean()"
   ]
  },
  {
   "cell_type": "code",
   "execution_count": null,
   "id": "3cf95f5f-ba39-40eb-8351-67f06ed8aa2a",
   "metadata": {},
   "outputs": [],
   "source": [
    "both_wine.groupby('type')['quality'].max()"
   ]
  },
  {
   "cell_type": "code",
   "execution_count": null,
   "id": "bc8c4791-33f9-4fd1-bf65-6fd9779c7d7d",
   "metadata": {},
   "outputs": [],
   "source": [
    "both_wine.drop(columns='type_code').corr(numeric_only=True)"
   ]
  },
  {
   "cell_type": "markdown",
   "id": "353b2642-666d-415d-9ddb-11a94a5bd95c",
   "metadata": {},
   "source": [
    "This is a correlation matrix for all the numeric features in your both_wine DataFrame. Each cell shows the Pearson correlation coefficient between two variables, ranging from –1 (perfect inverse linear relationship) to +1 (perfect direct linear relationship).\n",
    "\n",
    "Examining this data for key takeaways we can safely assume that alcohol and quality columns have the strongest correlation in the dataset. Meaning the higher the alcohol content of the wine the higher its quality is usually, - which is something everyone can already agree with. "
   ]
  },
  {
   "cell_type": "code",
   "execution_count": null,
   "id": "b3585c5d-e0a0-44f0-b881-be2d2f49ac01",
   "metadata": {},
   "outputs": [],
   "source": [
    "both_wine[['alcohol', 'quality']].corr()"
   ]
  },
  {
   "cell_type": "markdown",
   "id": "381ea36f-dd88-4577-ae89-9ef26e63775c",
   "metadata": {},
   "source": [
    "This sentiment can also be represented using a scatterplot: "
   ]
  },
  {
   "cell_type": "code",
   "execution_count": null,
   "id": "c214ac30-6c09-4803-a788-4f32a64422cf",
   "metadata": {},
   "outputs": [],
   "source": [
    "plt.figure(figsize=(6, 5))\n",
    "sns.scatterplot(x='alcohol', y='quality', hue='type', data=both_wine, alpha=0.5)\n",
    "plt.title('Alcohol vs. Quality')\n",
    "plt.show()"
   ]
  },
  {
   "cell_type": "markdown",
   "id": "9ce078ed-35c5-4692-870f-4bf1bb186225",
   "metadata": {},
   "source": [
    "The overall trend is clear: higher alcohol content generally corresponds with higher quality, visible from how more dots (clustering) appear in the upper-right portion of the chart. The few high-quality wines (8–9) tend to have higher alcohol content. \n",
    "This pattern shows a general upward trend: as you go right (more alcohol), the dots shift higher up on the graph (higher quality).\n",
    "\n",
    "If you look around 12–14% alcohol, there are lots of dots around quality 7 or 8. If you look at 8–10% alcohol, most dots are around quality 3 to 5.\n",
    "\n",
    "This tells us that wines with more alcohol are more likely to get better scores."
   ]
  },
  {
   "cell_type": "code",
   "execution_count": null,
   "id": "ee2887e9-ff9a-49a2-a0fb-c6be81a5395c",
   "metadata": {},
   "outputs": [],
   "source": [
    "desc_stats = both_wine.describe()\n",
    "print(desc_stats)"
   ]
  },
  {
   "cell_type": "code",
   "execution_count": null,
   "id": "00d15907-0c0f-41ef-a740-b52571fb0023",
   "metadata": {},
   "outputs": [],
   "source": [
    "for col in numeric_cols:\n",
    "    plt.figure()\n",
    "    stats.probplot(both_wine[col].dropna(), dist=\"norm\", plot=plt)\n",
    "    plt.title(f\"Q–Q Plot of {col}\")\n",
    "    plt.show()\n"
   ]
  },
  {
   "cell_type": "markdown",
   "id": "c3036d8a-9d27-4124-aafa-1988850072df",
   "metadata": {},
   "source": [
    "Examining the Q-Q plot diagrams for the data as numeric values we can generally assume that if the data-points are roughly on the 45 degree line, we can assume that the data is normal - as seen in for example in pH, density and quality, meaning that the data is \"safe\" and can be worked with under normality assumptions. Volatile acidity for example has more of an S-shaped curve indicating a deviation from normality.\n",
    "\n",
    "What the fuck does this actually mean? Essentially if the data is normal it means there are no extreme outliers, no Michael Jordans (salary class example) in the data. So its assumed safe to work with. The opposite is true if the data isn't normal, and we may need a more in depth understanding of the data i.e. see who the fuck the Michael Jordan/Jordans in our data is/are."
   ]
  },
  {
   "cell_type": "markdown",
   "id": "1cbcec3d-d4cd-4ae6-b391-13216e1c9edf",
   "metadata": {},
   "source": [
    "Knowing that quality has no crazy outliers we can represent quality by winetype and check which wine usually has better quality using a boxplot: "
   ]
  },
  {
   "cell_type": "code",
   "execution_count": null,
   "id": "a46f7e4a-4ab7-4bc6-b22b-e7386654ccee",
   "metadata": {},
   "outputs": [],
   "source": [
    "plt.figure(figsize=(6, 5))\n",
    "sns.boxplot(x='type', y='quality', data=both_wine)\n",
    "plt.title('Wine Quality by Type')\n",
    "plt.show()"
   ]
  },
  {
   "cell_type": "markdown",
   "id": "f47ec6a0-f8be-4fa5-8be4-f44ab2290702",
   "metadata": {},
   "source": [
    "Generally we can see that there is no considerable difference between red and white wine in terms of quality, although if you zoom in using a microscope you can see that white wine is still a small bit higher, and we can also confirm this by calculating the mean."
   ]
  },
  {
   "cell_type": "code",
   "execution_count": null,
   "id": "a0f4a6d9-e3bc-411d-ac41-bd9a30818e14",
   "metadata": {},
   "outputs": [],
   "source": [
    "both_wine.groupby('type')['quality'].mean()"
   ]
  },
  {
   "cell_type": "markdown",
   "id": "cea2e53a-f52a-4020-9438-11fad5512dad",
   "metadata": {},
   "source": [
    "We saw in the correlation matrix that the higher the alcohol the higher the quality. We can now group the wines by alcohol, and see which type wine usually has higher alcohol percentage. We expect the result of this to be that white wine usually has the higher alcohol percentage which will further support the rest of our data. "
   ]
  },
  {
   "cell_type": "code",
   "execution_count": null,
   "id": "be29791a-679e-4f59-bd09-fd78cea5e700",
   "metadata": {
    "scrolled": true
   },
   "outputs": [],
   "source": [
    "plt.figure(figsize=(6, 5))\n",
    "sns.boxplot(x='type', y='alcohol', data=both_wine)\n",
    "plt.title('Alcohol Content by Wine Type')\n",
    "plt.show()"
   ]
  },
  {
   "cell_type": "markdown",
   "id": "9fbb6884-1ee0-4b8a-b3f4-3d9f227edcb0",
   "metadata": {},
   "source": [
    "The result is as hypothesized. White wine tends to be rated higher in terms of quality and tends to have a higher alcohol percentage."
   ]
  },
  {
   "cell_type": "code",
   "execution_count": null,
   "id": "76a0c5b6-02a2-4a8a-9b9a-74e15428ed4d",
   "metadata": {},
   "outputs": [],
   "source": [
    "both_wine.groupby('type')['alcohol'].mean()"
   ]
  },
  {
   "cell_type": "code",
   "execution_count": null,
   "id": "2c4c4ce5-4d73-48a8-8d39-73296c575290",
   "metadata": {},
   "outputs": [],
   "source": [
    "plt.figure(figsize=(6, 5))\n",
    "sns.boxplot(x='type', y='residual sugar', data=both_wine)\n",
    "plt.title('Residual Sugar by Wine Type')\n",
    "plt.show()"
   ]
  },
  {
   "cell_type": "markdown",
   "id": "f044e352-98b7-4be7-9391-a36d2b80a36b",
   "metadata": {},
   "source": [
    "White wine has significantly more residual sugar but as seen in our correlation matrix residual sugar does not impact the quality of wine significantly. It's pearson correlation being 0.036980, so very little to nothing impact. We can check this further using a scatterplot:"
   ]
  },
  {
   "cell_type": "code",
   "execution_count": null,
   "id": "54fc8b4c-a7b3-4da6-9fdc-f96fb1ce8776",
   "metadata": {},
   "outputs": [],
   "source": [
    "plt.figure(figsize=(6, 5))\n",
    "sns.scatterplot(x='residual sugar', y='quality', hue='type', data=both_wine, alpha=0.5)\n",
    "plt.title('Residual Sugar vs. Quality')\n",
    "plt.show()"
   ]
  },
  {
   "cell_type": "markdown",
   "id": "57531a3f-4c16-4c1a-8c37-eeb72d50775c",
   "metadata": {},
   "source": [
    "Binning data essentially means slicing the data into short bits. Slicing the cake into pieces and looking at each piece individually. When we slice pH into 5 and 10 bins, we in the following code examine which slice has the heavist wines (highest average density) "
   ]
  },
  {
   "cell_type": "code",
   "execution_count": null,
   "id": "dccdb2cd-94b9-45af-b5d3-320d271c7dff",
   "metadata": {},
   "outputs": [],
   "source": [
    "# 5 bins\n",
    "both_wine['pH_bin_5'] = pd.cut(both_wine['pH'], bins=5)\n",
    "density_by_ph_5 = both_wine.groupby('pH_bin_5', observed=True)['density'].mean()\n",
    "print(\"Density per pH bin (5 bins):\")\n",
    "print(density_by_ph_5)\n",
    "print(f\"Highest density (5 bins): {density_by_ph_5.idxmax()} with value {density_by_ph_5.max()}\")\n",
    "\n",
    "# 10 bins\n",
    "both_wine['pH_bin_10'] = pd.cut(both_wine['pH'], bins=10)\n",
    "density_by_ph_10 = both_wine.groupby('pH_bin_10', observed=True)['density'].mean()\n",
    "print(\"\\nDensity per pH bin (10 bins):\")\n",
    "print(density_by_ph_10)\n",
    "print(f\"Highest density (10 bins): {density_by_ph_10.idxmax()} with value {density_by_ph_10.max()}\")\n"
   ]
  },
  {
   "cell_type": "markdown",
   "id": "b54c844d-1006-4e9c-abbc-cd49882ef507",
   "metadata": {},
   "source": [
    "Using 5 bins we notice that the highest avg. density is in the \"3.494 - 3.752\" with a value of 0.994.\n",
    "\n",
    "Using 10 bins means we have more data to work with (slicing the cake into more pieces) and we see that the pH range \"3.365 - 3.494\" has the highest avg. density. \n",
    "\n",
    "5 bins gave a broad peak (3.494–3.752), but 10 bins pinpointed the true maximum/optimal pH range for density (3.365–3.494).\n",
    "\n",
    "What does this actually mean? \n",
    "\n",
    "It means that wine density peaks at a mid-range pH (3.365–3.494), not at the highest pH. "
   ]
  },
  {
   "cell_type": "code",
   "execution_count": null,
   "id": "2d198195-2358-4e56-8ab8-2f9470ea336d",
   "metadata": {},
   "outputs": [],
   "source": [
    "both_wine[['pH', 'density']].corr()"
   ]
  },
  {
   "cell_type": "code",
   "execution_count": null,
   "id": "7219c9ee-b34d-4f82-82b8-d85280374890",
   "metadata": {},
   "outputs": [],
   "source": [
    "both_wine[['density', 'quality']].corr()"
   ]
  },
  {
   "cell_type": "code",
   "execution_count": null,
   "id": "ecc64bc1-8e55-42f5-96fe-b4e4cb95e75b",
   "metadata": {},
   "outputs": [],
   "source": [
    "both_wine[['density', 'alcohol']].corr()\n"
   ]
  }
 ],
 "metadata": {
  "kernelspec": {
   "display_name": "Python 3 (ipykernel)",
   "language": "python",
   "name": "python3"
  },
  "language_info": {
   "codemirror_mode": {
    "name": "ipython",
    "version": 3
   },
   "file_extension": ".py",
   "mimetype": "text/x-python",
   "name": "python",
   "nbconvert_exporter": "python",
   "pygments_lexer": "ipython3",
   "version": "3.12.7"
  }
 },
 "nbformat": 4,
 "nbformat_minor": 5
}
